{
 "cells": [
  {
   "cell_type": "code",
   "execution_count": 144,
   "metadata": {},
   "outputs": [],
   "source": [
    "#importing Dependencies\n",
    "import numpy as np\n",
    "from sklearn import linear_model,datasets,tree\n",
    "import matplotlib.pyplot as plt\n",
    "%matplotlib inline"
   ]
  },
  {
   "cell_type": "code",
   "execution_count": 145,
   "metadata": {},
   "outputs": [
    {
     "name": "stdout",
     "output_type": "stream",
     "text": [
      "[[5.7 2.8 4.1 1.3]]\n",
      "[[5.8 4.  1.2 0.2]]\n"
     ]
    }
   ],
   "source": [
    "#loading the data sets\n",
    "iris = datasets.load_iris()\n",
    "#print(iris.data)\n",
    "#print(iris.data.shape)\n",
    "X = iris.data[:100]\n",
    "Y = iris.target[:100]\n",
    "print(X[99:100,:])\n",
    "\n",
    "number_of_sample = len(Y)\n",
    "#print(number_of_sample)\n",
    "\n",
    "#spliting the data set\n",
    "random_indices = np.random.permutation(number_of_sample)\n",
    "#print(random_indices)\n",
    "#traning data\n",
    "x_train = X[random_indices[:70]]\n",
    "y_train = Y[random_indices[:70]]\n",
    "#validation data\n",
    "x_val = X[random_indices[70:85]]\n",
    "y_val = Y[random_indices[70:85]]\n",
    "#test data\n",
    "x_test = X[random_indices[85:]]\n",
    "y_test = Y[random_indices[85:]]"
   ]
  },
  {
   "cell_type": "code",
   "execution_count": 146,
   "metadata": {},
   "outputs": [
    {
     "data": {
      "image/png": "[encoded data removed]",
      "text/plain": [
       "<Figure size 432x288 with 1 Axes>"
      ]
     },
     "metadata": {
      "needs_background": "light"
     },
     "output_type": "display_data"
    }
   ],
   "source": [
    "#visaulizing the traning data\n",
    "X_class0 = np.asarray([x_train[i] for i in range(len(x_train)) if y_train[i]==0]) #Picking only the first two classes\n",
    "Y_class0 = np.zeros((X_class0.shape[0]),dtype=np.int)\n",
    "X_class1 = np.asarray([x_train[i] for i in range(len(x_train)) if y_train[i]==1])\n",
    "Y_class1 = np.ones((X_class1.shape[0]),dtype=np.int)\n",
    "\n",
    "\n",
    "plt.scatter(X_class0[:,0], X_class0[:,1],color='red')\n",
    "plt.scatter(X_class1[:,0], X_class1[:,1],color='blue')\n",
    "plt.xlabel('sepal length')\n",
    "plt.ylabel('sepal width')\n",
    "plt.legend(['class 0','class 1'])\n",
    "plt.show()"
   ]
  },
  {
   "cell_type": "code",
   "execution_count": 147,
   "metadata": {},
   "outputs": [
    {
     "name": "stdout",
     "output_type": "stream",
     "text": [
      "[1 0 0 0 1 0 1 0 1 1 1 1 0 0 0]\n",
      "[1 0 0 0 1 0 1 0 1 1 1 1 0 0 0]\n"
     ]
    },
    {
     "name": "stderr",
     "output_type": "stream",
     "text": [
      "C:\\Users\\ASUS\\AppData\\Roaming\\Python\\Python36\\site-packages\\sklearn\\linear_model\\logistic.py:433: FutureWarning: Default solver will be changed to 'lbfgs' in 0.22. Specify a solver to silence this warning.\n",
      "  FutureWarning)\n"
     ]
    }
   ],
   "source": [
    "#fitting the data imto model\n",
    "model = linear_model.LogisticRegression()\n",
    "model.fit(x_train,y_train)\n",
    "#pridiction of model\n",
    "model_prediction = model.predict(x_val)\n",
    "print(model_prediction)\n",
    "print(y_val)"
   ]
  },
  {
   "cell_type": "code",
   "execution_count": 148,
   "metadata": {},
   "outputs": [
    {
     "name": "stdout",
     "output_type": "stream",
     "text": [
      "validation misclassification percentage = 0.0 %\n",
      "test misclassification percentage = 0.0 %\n",
      "[1 0 0 0 1 0 1 0 1 1 1 1 0 0 0]\n",
      "[1 1 1 1 1 1 0 1 0 0 0 1 1 1 1]\n"
     ]
    }
   ],
   "source": [
    "#printing precentage of miss classificatin\n",
    "validation_set_predictions = model.predict(x_val)#np array on validation set\n",
    "test_set_predictions = model.predict(x_test)#np array on test set\n",
    "\n",
    "validation_misclassification_percentage = 0\n",
    "for i in range(len(validation_set_predictions)):\n",
    "    if validation_set_predictions[i] != y_val[i]:\n",
    "        validation_misclassification_percentage+=1\n",
    "validation_misclassification_percentage *= 100/len(y_val)\n",
    "print('validation misclassification percentage =', validation_misclassification_percentage, '%')\n",
    "\n",
    "\n",
    "test_misclassification_percentage = 0\n",
    "for i in range(len(test_set_predictions)):\n",
    "    if test_set_predictions[i]!=y_test[i]:\n",
    "        test_misclassification_percentage+=1\n",
    "test_misclassification_percentage *= 100/len(y_test)\n",
    "print('test misclassification percentage =', test_misclassification_percentage, '%')\n",
    "\n",
    "#printing arary of evalaliting the validation and test set\n",
    "print(validation_set_predictions)\n",
    "print(test_set_predictions)"
   ]
  },
  {
   "cell_type": "code",
   "execution_count": 149,
   "metadata": {},
   "outputs": [
    {
     "name": "stdout",
     "output_type": "stream",
     "text": [
      "Validation Accuracy = 1.0\n",
      "Test Accuracy = 1.0\n"
     ]
    }
   ],
   "source": [
    "accuracy_val = model.score(x_val,y_val)\n",
    "accuracy_test = model.score(x_test,y_test)\n",
    "print(\"Validation Accuracy =\",accuracy_val)\n",
    "print(\"Test Accuracy =\",accuracy_test)"
   ]
  }
 ],
 "metadata": {
  "kernelspec": {
   "display_name": "Python 3",
   "language": "python",
   "name": "python3"
  },
  "language_info": {
   "codemirror_mode": {
    "name": "ipython",
    "version": 3
   },
   "file_extension": ".py",
   "mimetype": "text/x-python",
   "name": "python",
   "nbconvert_exporter": "python",
   "pygments_lexer": "ipython3",
   "version": "3.6.8"
  }
 },
 "nbformat": 4,
 "nbformat_minor": 2
}
