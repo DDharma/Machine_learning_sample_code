{
 "cells": [
  {
   "cell_type": "code",
   "execution_count": 2,
   "metadata": {},
   "outputs": [
    {
     "name": "stderr",
     "output_type": "stream",
     "text": [
      "C:\\Program Files\\Python36\\lib\\importlib\\_bootstrap.py:219: RuntimeWarning: numpy.ufunc size changed, may indicate binary incompatibility. Expected 216, got 192\n",
      "  return f(*args, **kwds)\n"
     ]
    }
   ],
   "source": [
    "#importing some useful libaries\n",
    "from __future__ import division, print_function\n",
    "import numpy as np\n",
    "from sklearn import datasets, svm\n",
    "from sklearn.model_selection import train_test_split\n",
    "import matplotlib.pyplot as plt\n",
    "%matplotlib inline"
   ]
  },
  {
   "cell_type": "code",
   "execution_count": 52,
   "metadata": {},
   "outputs": [],
   "source": [
    "#loading iris dataset\n",
    "iris = datasets.load_iris()\n",
    "\n",
    "#retring only one feature\n",
    "x = iris.data[:,2]\n",
    "\n",
    "#retriving target feature\n",
    "y = iris.target\n",
    "\n",
    "#spliting data into test traing split\n",
    "x_train, x_test,y_train,y_test = train_test_split(x,y, test_size=0.25, random_state=42)"
   ]
  },
  {
   "cell_type": "code",
   "execution_count": 53,
   "metadata": {},
   "outputs": [],
   "source": [
    "#function for evaluating accuracy and function accept only one parameter \n",
    "def evaluate_on_test_data(model=None):\n",
    "    predictions = model.predict(x_test.reshape(len(x_test),1))\n",
    "    correct_classification = 0\n",
    "    for i in range(len(y_test)):\n",
    "        if predictions[i] == y_test[i]:\n",
    "            correct_classification +=1\n",
    "    accuracy = 100*correct_classification/len(y_test) #accuracy as presentage\n",
    "    return accuracy"
   ]
  },
  {
   "cell_type": "code",
   "execution_count": 57,
   "metadata": {},
   "outputs": [
    {
     "name": "stdout",
     "output_type": "stream",
     "text": [
      "100.0 accuracy obtain wuth kernal = linear and the lenght of support vector is: 30\n",
      "97.36842105263158 accuracy obtain wuth kernal = poly and the lenght of support vector is: 20\n",
      "100.0 accuracy obtain wuth kernal = rbf and the lenght of support vector is: 32\n"
     ]
    },
    {
     "name": "stderr",
     "output_type": "stream",
     "text": [
      "C:\\Users\\ASUS\\AppData\\Roaming\\Python\\Python36\\site-packages\\sklearn\\svm\\base.py:196: FutureWarning: The default value of gamma will change from 'auto' to 'scale' in version 0.22 to account better for unscaled features. Set gamma explicitly to 'auto' or 'scale' to avoid this warning.\n",
      "  \"avoid this warning.\", FutureWarning)\n",
      "C:\\Users\\ASUS\\AppData\\Roaming\\Python\\Python36\\site-packages\\sklearn\\svm\\base.py:196: FutureWarning: The default value of gamma will change from 'auto' to 'scale' in version 0.22 to account better for unscaled features. Set gamma explicitly to 'auto' or 'scale' to avoid this warning.\n",
      "  \"avoid this warning.\", FutureWarning)\n"
     ]
    }
   ],
   "source": [
    "#Making tupple on three kernel \n",
    "kernrls = ('linear','poly','rbf')\n",
    "#creating one empty list for storing accuracy on test data\n",
    "accracies = []\n",
    "\n",
    "#lines of code for prediction\n",
    "for index, kernel in enumerate(kernrls):\n",
    "    \n",
    "    #cretion model instace for fitting the model\n",
    "    model = svm.SVC(kernel=kernel)\n",
    "    \n",
    "    #fitting the model\n",
    "    model.fit(x_train.reshape(len(x_train),1),y_train)\n",
    "    \n",
    "    #Calling the function for finding the accuracy\n",
    "    acc = evaluate_on_test_data(model)\n",
    "    accracies.append(acc)\n",
    "    \n",
    "    #finding the length of support vector used in model\n",
    "    len_support_vevtor = len(model.support_vectors_)\n",
    "    \n",
    "    #printing all the information\n",
    "    print(\"{} accuracy obtain wuth kernal = {} and the lenght of support vector is: {}\".format(acc,kernel,len_support_vevtor))"
   ]
  }
 ],
 "metadata": {
  "kernelspec": {
   "display_name": "Python 3",
   "language": "python",
   "name": "python3"
  },
  "language_info": {
   "codemirror_mode": {
    "name": "ipython",
    "version": 3
   },
   "file_extension": ".py",
   "mimetype": "text/x-python",
   "name": "python",
   "nbconvert_exporter": "python",
   "pygments_lexer": "ipython3",
   "version": "3.6.8"
  }
 },
 "nbformat": 4,
 "nbformat_minor": 2
}
