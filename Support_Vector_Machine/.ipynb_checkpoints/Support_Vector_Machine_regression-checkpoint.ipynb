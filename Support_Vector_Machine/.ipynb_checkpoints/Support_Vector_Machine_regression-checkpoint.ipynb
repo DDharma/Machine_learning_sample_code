{
 "cells": [
  {
   "cell_type": "code",
   "execution_count": 5,
   "metadata": {},
   "outputs": [],
   "source": [
    "#importing some useful libaries\n",
    "from __future__ import division, print_function\n",
    "import numpy as np\n",
    "from sklearn import datasets, svm\n",
    "from sklearn.model_selection import train_test_split\n",
    "import matplotlib.pyplot as plt\n",
    "%matplotlib inline"
   ]
  },
  {
   "cell_type": "code",
   "execution_count": 6,
   "metadata": {},
   "outputs": [],
   "source": [
    "#loading iris dataset\n",
    "boston =  datasets.load_boston()\n",
    "\n",
    "#retring only one feature\n",
    "x = boston.data\n",
    "\n",
    "#retriving target feature\n",
    "y = boston.target\n",
    "\n",
    "#spliting data into test traing split\n",
    "x_train, x_test,y_train,y_test = train_test_split(x,y, test_size=0.25, random_state=42)"
   ]
  },
  {
   "cell_type": "code",
   "execution_count": 7,
   "metadata": {},
   "outputs": [],
   "source": [
    "#function for evaluating accuracy and function accept only one parameter\n",
    "def evaluate_on_test_data(model=None):\n",
    "    predictions = model.predict(x_test)\n",
    "    sum_of_squared_error = 0\n",
    "    for i in range(len(y_test)):\n",
    "        err = (predictions[i]-y_test[i])**2\n",
    "        sum_of_squared_error += err\n",
    "        mean_squared_error = sum_of_squared_error/len(y_test)\n",
    "        RMSE = np.sqrt(mean_squared_error)\n",
    "        return RMSE"
   ]
  },
  {
   "cell_type": "code",
   "execution_count": 8,
   "metadata": {},
   "outputs": [
    {
     "name": "stdout",
     "output_type": "stream",
     "text": [
      "RMSE: 0.2055379517036261 obtaing from the kernel : linear\n",
      "RMSE: 0.18681600281205993 obtaing from the kernel : rbf\n"
     ]
    },
    {
     "name": "stderr",
     "output_type": "stream",
     "text": [
      "C:\\Users\\ASUS\\AppData\\Roaming\\Python\\Python36\\site-packages\\sklearn\\svm\\base.py:196: FutureWarning: The default value of gamma will change from 'auto' to 'scale' in version 0.22 to account better for unscaled features. Set gamma explicitly to 'auto' or 'scale' to avoid this warning.\n",
      "  \"avoid this warning.\", FutureWarning)\n"
     ]
    }
   ],
   "source": [
    "#Making tupple on three kernel \n",
    "kernels = ('linear','rbf')\n",
    "#creating one empty list for storing RMSE vector on test data\n",
    "RMSE_vec = []\n",
    "\n",
    "#lines of code for creating model and finding the RMES\n",
    "for index, kernel in enumerate(kernels):\n",
    "    \n",
    "    #cretion model instace for fitting the model\n",
    "    model = svm.SVR(kernel = kernel)\n",
    "    \n",
    "    #fitting the model\n",
    "    model.fit(x_train,y_train)\n",
    "    \n",
    "    #Calling the function for finding the RMES\n",
    "    RMSE = evaluate_on_test_data(model)\n",
    "    RMSE_vec.append(RMSE)\n",
    "    \n",
    "    #printing all the information\n",
    "    print(\"RMSE: {} obtaing from the kernel : {}\".format(RMSE,kernel))"
   ]
  }
 ],
 "metadata": {
  "kernelspec": {
   "display_name": "Python 3",
   "language": "python",
   "name": "python3"
  },
  "language_info": {
   "codemirror_mode": {
    "name": "ipython",
    "version": 3
   },
   "file_extension": ".py",
   "mimetype": "text/x-python",
   "name": "python",
   "nbconvert_exporter": "python",
   "pygments_lexer": "ipython3",
   "version": "3.6.8"
  }
 },
 "nbformat": 4,
 "nbformat_minor": 2
}
