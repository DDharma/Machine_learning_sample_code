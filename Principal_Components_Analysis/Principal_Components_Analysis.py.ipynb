{
 "cells": [
  {
   "cell_type": "code",
   "execution_count": 52,
   "metadata": {},
   "outputs": [],
   "source": [
    "#importating some dependency\n",
    "import numpy as np\n",
    "import matplotlib.pyplot as plt\n",
    "from sklearn.decomposition import PCA\n",
    "from sklearn import datasets\n",
    "from sklearn.neighbors import KNeighborsClassifier\n",
    "from sklearn.model_selection import train_test_split\n",
    "from sklearn.metrics import classification_report,confusion_matrix"
   ]
  },
  {
   "cell_type": "code",
   "execution_count": 40,
   "metadata": {},
   "outputs": [
    {
     "name": "stdout",
     "output_type": "stream",
     "text": [
      "Number of sample = 400\n",
      "Height of each image = 64\n",
      "Wight of each image = 64\n",
      "Number of input feature = 4096\n",
      "Number of output classes = 40\n"
     ]
    }
   ],
   "source": [
    "#Retriving data sets\n",
    "Data = datasets.fetch_olivetti_faces()\n",
    "no_of_sample,height,width  = Data.images.shape\n",
    "X = Data.data\n",
    "no_of_feature = X.shape[1]\n",
    "Y = Data.target\n",
    "no_of_classes = int(max(Y)+1)\n",
    "print(\"Number of sample = {}\\nHeight of each image = {}\\nWight of each image = {}\\nNumber of input feature = {}\\nNumber of output classes = {}\".format(no_of_sample,height,width,no_of_feature,no_of_classes))\n",
    "      "
   ]
  },
  {
   "cell_type": "code",
   "execution_count": 41,
   "metadata": {},
   "outputs": [],
   "source": [
    "#Splitton the data into train,test\n",
    "x_train,x_test,y_train,y_test = train_test_split(X,Y,test_size=0.25,random_state = 42)\n",
    "\n",
    "#print(x_train.shape)\n",
    "#print(x_test.shape)"
   ]
  },
  {
   "cell_type": "code",
   "execution_count": 42,
   "metadata": {},
   "outputs": [],
   "source": [
    "#Reduce the dimensionality of the feature space\n",
    "no_of_component = 150\n",
    "pca = PCA(n_components=no_of_component,whiten=True).fit(x_train)\n",
    "eigenfaces  =pca.components_.reshape((no_of_component,height,width))"
   ]
  },
  {
   "cell_type": "code",
   "execution_count": 43,
   "metadata": {},
   "outputs": [],
   "source": [
    "#Project the data into eigenspace \n",
    "x_train_pca = pca.transform(x_train)\n",
    "x_test_pca = pca.transform(x_test)"
   ]
  },
  {
   "cell_type": "code",
   "execution_count": 49,
   "metadata": {},
   "outputs": [
    {
     "data": {
      "text/plain": [
       "array([20, 28, 14, 21,  9,  8, 22,  9, 26, 12, 29, 36,  5,  7, 13,  4, 29,\n",
       "       37, 23, 29,  7, 29, 39,  8, 29, 39, 11, 22, 26, 10,  4, 17, 29,  5,\n",
       "       23, 29, 29, 29, 14, 14, 38,  5, 24,  8,  8, 14, 14, 18,  2, 17,  4,\n",
       "       29, 33, 14, 37, 14, 22, 17,  3, 15, 12, 29, 18,  8, 10,  5, 35, 29,\n",
       "        4,  7, 29, 14, 30,  4, 38, 24, 22, 30, 14, 28, 24, 29, 14, 25, 18,\n",
       "       29, 24, 29,  4,  9, 23, 33, 11, 22, 18, 22, 29, 14, 23, 14])"
      ]
     },
     "execution_count": 49,
     "metadata": {},
     "output_type": "execute_result"
    }
   ],
   "source": [
    "#KNN classifier\n",
    "model = KNeighborsClassifier(n_neighbors=5)\n",
    "model.fit(x_train_pca,y_train)\n",
    "model.predict(x_test_pca)"
   ]
  },
  {
   "cell_type": "code",
   "execution_count": 54,
   "metadata": {},
   "outputs": [
    {
     "name": "stdout",
     "output_type": "stream",
     "text": [
      "test_accuracy  :0.59\n",
      "              precision    recall  f1-score   support\n",
      "\n",
      "           0       0.00      0.00      0.00         4\n",
      "           1       0.00      0.00      0.00         2\n",
      "           2       1.00      0.50      0.67         2\n",
      "           3       1.00      0.25      0.40         4\n",
      "           4       0.50      1.00      0.67         3\n",
      "           5       0.75      1.00      0.86         3\n",
      "           6       0.00      0.00      0.00         1\n",
      "           7       1.00      0.43      0.60         7\n",
      "           8       0.40      1.00      0.57         2\n",
      "           9       1.00      1.00      1.00         3\n",
      "          10       1.00      0.67      0.80         3\n",
      "          11       1.00      0.50      0.67         4\n",
      "          12       1.00      1.00      1.00         2\n",
      "          13       1.00      1.00      1.00         1\n",
      "          14       0.25      1.00      0.40         3\n",
      "          15       1.00      0.50      0.67         2\n",
      "          17       0.67      0.67      0.67         3\n",
      "          18       0.50      1.00      0.67         2\n",
      "          19       0.00      0.00      0.00         1\n",
      "          20       1.00      0.50      0.67         2\n",
      "          21       1.00      1.00      1.00         1\n",
      "          22       0.67      1.00      0.80         4\n",
      "          23       1.00      1.00      1.00         4\n",
      "          24       0.50      1.00      0.67         2\n",
      "          25       1.00      0.50      0.67         2\n",
      "          26       1.00      0.50      0.67         4\n",
      "          27       0.00      0.00      0.00         3\n",
      "          28       1.00      1.00      1.00         2\n",
      "          29       0.06      1.00      0.11         1\n",
      "          30       0.00      0.00      0.00         1\n",
      "          31       0.00      0.00      0.00         1\n",
      "          32       0.00      0.00      0.00         3\n",
      "          33       1.00      1.00      1.00         2\n",
      "          34       0.00      0.00      0.00         1\n",
      "          35       1.00      1.00      1.00         1\n",
      "          36       1.00      0.50      0.67         2\n",
      "          37       1.00      0.67      0.80         3\n",
      "          38       1.00      0.40      0.57         5\n",
      "          39       1.00      0.50      0.67         4\n",
      "\n",
      "   micro avg       0.59      0.59      0.59       100\n",
      "   macro avg       0.65      0.59      0.56       100\n",
      "weighted avg       0.72      0.59      0.59       100\n",
      "\n",
      "[[0 0 0 ... 0 0 0]\n",
      " [0 0 0 ... 0 0 0]\n",
      " [0 0 1 ... 0 0 0]\n",
      " ...\n",
      " [0 0 0 ... 2 0 0]\n",
      " [0 0 0 ... 0 2 0]\n",
      " [0 0 0 ... 0 0 2]]\n"
     ]
    },
    {
     "name": "stderr",
     "output_type": "stream",
     "text": [
      "C:\\Users\\ASUS\\AppData\\Roaming\\Python\\Python36\\site-packages\\sklearn\\metrics\\classification.py:1143: UndefinedMetricWarning: Precision and F-score are ill-defined and being set to 0.0 in labels with no predicted samples.\n",
      "  'precision', 'predicted', average, warn_for)\n"
     ]
    }
   ],
   "source": [
    "#Finding accurucy and printing confusion matrix\n",
    "test_accuracy = model.score(x_test_pca,y_test)\n",
    "print(\"test_accuracy  :{}\".format(test_accuracy))\n",
    "print(classification_report(y_test,model.predict(x_test_pca)))\n",
    "print(confusion_matrix(y_test,model.predict(x_test_pca)))"
   ]
  },
  {
   "cell_type": "code",
   "execution_count": null,
   "metadata": {},
   "outputs": [],
   "source": []
  }
 ],
 "metadata": {
  "kernelspec": {
   "display_name": "Python 3",
   "language": "python",
   "name": "python3"
  },
  "language_info": {
   "codemirror_mode": {
    "name": "ipython",
    "version": 3
   },
   "file_extension": ".py",
   "mimetype": "text/x-python",
   "name": "python",
   "nbconvert_exporter": "python",
   "pygments_lexer": "ipython3",
   "version": "3.6.8"
  }
 },
 "nbformat": 4,
 "nbformat_minor": 2
}
