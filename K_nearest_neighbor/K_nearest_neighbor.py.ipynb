{
 "cells": [
  {
   "cell_type": "code",
   "execution_count": 95,
   "metadata": {},
   "outputs": [],
   "source": [
    "import numpy as np\n",
    "import matplotlib.pyplot as plt\n",
    "from sklearn import datasets,neighbors"
   ]
  },
  {
   "cell_type": "code",
   "execution_count": 96,
   "metadata": {},
   "outputs": [],
   "source": [
    "#loading the data set\n",
    "iris = datasets.load_iris()\n",
    " \n",
    "X = iris.data #input feature\n",
    "Y = iris.target #output feature\n",
    "#print(X[:10])\n",
    "#print(Y[:10])\n",
    "no_of_sample = len(Y)\n",
    "random_indicies = np.random.permutation(no_of_sample)\n",
    "\n",
    "#splition the data set into train,test and validation sets\n",
    "#traing set\n",
    "x_train = X[random_indicies[:70]]\n",
    "y_train = Y[random_indicies[:70]]\n",
    "#validation set\n",
    "x_val = X[random_indicies[70:85]]\n",
    "y_val = Y[random_indicies[70:85]]\n",
    "#test set\n",
    "x_test = X[random_indicies[85:]]\n",
    "y_test = Y[random_indicies[85:]]"
   ]
  },
  {
   "cell_type": "code",
   "execution_count": 100,
   "metadata": {},
   "outputs": [
    {
     "data": {
      "image/png": "[encoded data removed]",
      "text/plain": [
       "<Figure size 432x288 with 1 Axes>"
      ]
     },
     "metadata": {
      "needs_background": "light"
     },
     "output_type": "display_data"
    }
   ],
   "source": [
    "#visaulizing the traning data\n",
    "X_class0 = np.asarray([x_train[i] for i in range(len(x_train)) if y_train[i]==0]) #Picking only the first two classes\n",
    "Y_class0 = np.zeros((X_class0.shape[0]),dtype=np.int)\n",
    "X_class1 = np.asarray([x_train[i] for i in range(len(x_train)) if y_train[i]==1])\n",
    "Y_class1 = np.ones((X_class1.shape[0]),dtype=np.int)\n",
    "X_class2 = np.asarray([x_train[i] for i in range(len(x_train)) if y_train[i]==2])\n",
    "Y_class2 = np.ones((X_class2.shape[0]),dtype=np.int)\n",
    "\n",
    "\n",
    "plt.scatter(X_class0[:,0], X_class0[:,1],color='red')\n",
    "plt.scatter(X_class1[:,0], X_class1[:,1],color='blue')\n",
    "plt.scatter(X_class2[:,0], X_class2[:,2],color='green')\n",
    "plt.xlabel('sepal length')\n",
    "plt.ylabel('sepal width')\n",
    "plt.legend(['class 0','class 1','class 2'])\n",
    "plt.show()\n"
   ]
  },
  {
   "cell_type": "code",
   "execution_count": 103,
   "metadata": {},
   "outputs": [
    {
     "name": "stdout",
     "output_type": "stream",
     "text": [
      "The nearest neighbors points :\n",
      " [[5.1 3.4 1.5 0.2]\n",
      " [5.1 3.5 1.4 0.2]\n",
      " [5.2 3.4 1.4 0.2]\n",
      " [5.  3.4 1.6 0.4]\n",
      " [5.  3.6 1.4 0.2]]\n",
      "\n",
      "The classes of the nearest neighbors: [0 0 0 0 0]\n",
      "\n"
     ]
    },
    {
     "data": {
      "image/png": "[encoded data removed]",
      "text/plain": [
       "<Figure size 432x288 with 1 Axes>"
      ]
     },
     "metadata": {
      "needs_background": "light"
     },
     "output_type": "display_data"
    }
   ],
   "source": [
    "#fiting the model\n",
    "#Creating the model instances\n",
    "model = neighbors.KNeighborsClassifier(n_neighbors=5) #where k = (number of kneighbors)\n",
    "model.fit(x_train,y_train)\n",
    "model.predict(x_train)\n",
    "\n",
    "#finding the distance and indices of 5 nerest point(k=5) \n",
    "distances_of_nearest_neighbors, indices_of_nearest_neighbors_of_query_point = model.kneighbors(x_train[:5])\n",
    "\n",
    "#finnding the 5 nearest train data \n",
    "nearest_neighbors_of_query_point = x_train[indices_of_nearest_neighbors_of_query_point[0]]\n",
    "\n",
    "#printing the 5 nearest train data\n",
    "print(\"The nearest neighbors points :\\n {}\\n\".format(nearest_neighbors_of_query_point))\n",
    "\n",
    "#printing classes of the 5 nearest train data\n",
    "print(\"The classes of the nearest neighbors: {}\\n\".format(y_train[indices_of_nearest_neighbors_of_query_point[0]]))\n",
    "\n",
    "#ploting the all curve on traing data \n",
    "plt.scatter(X_class0[:,0], X_class0[:,1],color='red')\n",
    "plt.scatter(X_class1[:,0], X_class1[:,1],color='blue')\n",
    "plt.scatter(X_class2[:,0], X_class2[:,2],color='green')\n",
    "plt.scatter(x_train[:5][0][0], x_train[:5][0][1],marker='^',s=75,color='black')\n",
    "plt.scatter(nearest_neighbors_of_query_point[:,0], nearest_neighbors_of_query_point[:,1],marker='s',s=150,color='yellow',alpha=0.30)\n",
    "plt.xlabel('sepal length')\n",
    "plt.ylabel('sepal width')\n",
    "plt.legend(['class 0','class 1','class 2'])\n",
    "plt.show()\n"
   ]
  },
  {
   "cell_type": "code",
   "execution_count": 102,
   "metadata": {},
   "outputs": [
    {
     "name": "stdout",
     "output_type": "stream",
     "text": [
      "Accuracy on train Data      : 0.9571428571428572\n",
      "Accuracy on validation Data : 1.0\n",
      "Accuracy on test Data       : 0.9538461538461539\n"
     ]
    }
   ],
   "source": [
    "#finding all accuracy train,validation, test\n",
    "accuracy_train = model.score(x_train,y_train)\n",
    "accuracy_val = model.score(x_val,y_val)\n",
    "accuracy_test = model.score(x_test,y_test)\n",
    "print(\"Accuracy on train Data      :\",accuracy_train)\n",
    "print(\"Accuracy on validation Data :\",accuracy_val)\n",
    "print(\"Accuracy on test Data       :\",accuracy_test)"
   ]
  },
  {
   "cell_type": "code",
   "execution_count": null,
   "metadata": {},
   "outputs": [],
   "source": []
  }
 ],
 "metadata": {
  "kernelspec": {
   "display_name": "Python 3",
   "language": "python",
   "name": "python3"
  },
  "language_info": {
   "codemirror_mode": {
    "name": "ipython",
    "version": 3
   },
   "file_extension": ".py",
   "mimetype": "text/x-python",
   "name": "python",
   "nbconvert_exporter": "python",
   "pygments_lexer": "ipython3",
   "version": "3.6.8"
  }
 },
 "nbformat": 4,
 "nbformat_minor": 2
}
