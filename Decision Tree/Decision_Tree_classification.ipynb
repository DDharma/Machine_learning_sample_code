{
 "cells": [
  {
   "cell_type": "code",
   "execution_count": 2,
   "metadata": {},
   "outputs": [],
   "source": [
    "import numpy as np\n",
    "import matplotlib.pyplot as plt\n",
    "from sklearn import datasets,tree\n"
   ]
  },
  {
   "cell_type": "code",
   "execution_count": 15,
   "metadata": {},
   "outputs": [],
   "source": [
    "#loading then data\n",
    "iris = datasets.load_iris()\n",
    "X = iris.data #Collecting the input-features\n",
    "Y = iris.target #collecting the output-features\n",
    "\n",
    "#Splitiong the dataset into traning,testing and validation sets\n",
    "number_of_sample = len(Y)\n",
    "#Geting random indicies\n",
    "random_indices = np.random.permutation(number_of_sample)\n",
    "\n",
    "#Splitting training set\n",
    "x_train = X[random_indices[:70]]\n",
    "y_train = Y[random_indices[:70]]\n",
    "\n",
    "#Sptittiong validation set\n",
    "x_val = X[random_indices[70:85]]\n",
    "y_val = Y[random_indices[70:85]]\n",
    "\n",
    "#Splitting testing set\n",
    "x_test = X[random_indices[85:]]\n",
    "y_test = Y[random_indices[85:]]\n"
   ]
  },
  {
   "cell_type": "code",
   "execution_count": 16,
   "metadata": {},
   "outputs": [
    {
     "name": "stdout",
     "output_type": "stream",
     "text": [
      "[1 1 2 0 2 2 2 0 1 1 0 0 2 0 0]\n",
      "[1 1 1 0 2 2 2 0 1 1 0 0 2 0 0]\n"
     ]
    }
   ],
   "source": [
    "#Creating the instances of Decision tree classifier class\n",
    "model = tree.DecisionTreeClassifier()\n",
    "model.fit(x_train,y_train)\n",
    "#pridiction of model\n",
    "model_prediction = model.predict(x_val)\n",
    "print(model_prediction)\n",
    "print(y_val)"
   ]
  },
  {
   "cell_type": "code",
   "execution_count": 17,
   "metadata": {},
   "outputs": [
    {
     "name": "stdout",
     "output_type": "stream",
     "text": [
      "validation misclassification percentage = 6.666666666666667 %\n",
      "test misclassification percentage = 0.0 %\n",
      "[1 1 2 0 2 2 2 0 1 1 0 0 2 0 0]\n",
      "[1 2 0 1 0 0 1 1 0 2 1 0 2 1 2 2 2 0 1 1 0 2 0 2 0 2 0 1 1 0 2 1 1 2 0 0 2\n",
      " 1 2 2 2 0 0 2 2 0 1 0 0 1 1 2 0 0 1 1 2 2 0 1 1 1 2 2 1]\n"
     ]
    }
   ],
   "source": [
    "#printing precentage of miss classificatin\n",
    "validation_set_predictions = model.predict(x_val)#np array on validation set\n",
    "test_set_predictions = model.predict(x_test)#np array on test set\n",
    "\n",
    "validation_misclassification_percentage = 0\n",
    "for i in range(len(validation_set_predictions)):\n",
    "    if validation_set_predictions[i] != y_val[i]:\n",
    "        validation_misclassification_percentage+=1\n",
    "validation_misclassification_percentage *= 100/len(y_val)\n",
    "print('validation misclassification percentage =', validation_misclassification_percentage, '%')\n",
    "\n",
    "\n",
    "test_misclassification_percentage = 0\n",
    "for i in range(len(test_set_predictions)):\n",
    "    if test_set_predictions[i]!=y_test[i]:\n",
    "        test_misclassification_percentage+=1\n",
    "test_misclassification_percentage *= 100/len(y_test)\n",
    "print('test misclassification percentage =', test_misclassification_percentage, '%')\n",
    "\n",
    "#printing arary of evalaliting the validation and test set\n",
    "print(validation_set_predictions)\n",
    "print(test_set_predictions)"
   ]
  },
  {
   "cell_type": "code",
   "execution_count": 18,
   "metadata": {},
   "outputs": [
    {
     "name": "stdout",
     "output_type": "stream",
     "text": [
      "Validation Accuracy = 0.9333333333333333\n",
      "Test Accuracy = 1.0\n"
     ]
    }
   ],
   "source": [
    "accuracy_val = model.score(x_val,y_val)\n",
    "accuracy_test = model.score(x_test,y_test)\n",
    "print(\"Validation Accuracy =\",accuracy_val)\n",
    "print(\"Test Accuracy =\",accuracy_test)"
   ]
  },
  {
   "cell_type": "code",
   "execution_count": null,
   "metadata": {},
   "outputs": [],
   "source": []
  }
 ],
 "metadata": {
  "kernelspec": {
   "display_name": "Python 3",
   "language": "python",
   "name": "python3"
  },
  "language_info": {
   "codemirror_mode": {
    "name": "ipython",
    "version": 3
   },
   "file_extension": ".py",
   "mimetype": "text/x-python",
   "name": "python",
   "nbconvert_exporter": "python",
   "pygments_lexer": "ipython3",
   "version": "3.6.8"
  }
 },
 "nbformat": 4,
 "nbformat_minor": 2
}
